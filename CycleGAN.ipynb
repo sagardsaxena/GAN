{
 "cells": [
  {
   "cell_type": "code",
   "execution_count": 1,
   "metadata": {},
   "outputs": [
    {
     "name": "stdout",
     "output_type": "stream",
     "text": [
      "/fs/junkfood/ssaxena1/Research/GAN/CycleGAN\n"
     ]
    }
   ],
   "source": [
    "%cd CycleGAN"
   ]
  },
  {
   "cell_type": "code",
   "execution_count": null,
   "metadata": {},
   "outputs": [],
   "source": [
    "!bash ./download_datasets.sh facades"
   ]
  },
  {
   "cell_type": "code",
   "execution_count": 5,
   "metadata": {},
   "outputs": [
    {
     "name": "stdout",
     "output_type": "stream",
     "text": [
      "401\n",
      "107\n"
     ]
    }
   ],
   "source": [
    "!ls -l input/facades/trainA | wc -l\n",
    "!ls -l input/facades/testA | wc -l"
   ]
  },
  {
   "cell_type": "code",
   "execution_count": 2,
   "metadata": {},
   "outputs": [
    {
     "name": "stdout",
     "output_type": "stream",
     "text": [
      "1.1.0\n"
     ]
    },
    {
     "name": "stderr",
     "output_type": "stream",
     "text": [
      "/fs/junkfood/ssaxena1/miniconda3/envs/gan/lib/python3.5/site-packages/h5py/__init__.py:34: FutureWarning: Conversion of the second argument of issubdtype from `float` to `np.floating` is deprecated. In future, it will be treated as `np.float64 == np.dtype(float).type`.\n",
      "  from ._conv import register_converters as _register_converters\n"
     ]
    },
    {
     "name": "stdout",
     "output_type": "stream",
     "text": [
      "1.4.0\n"
     ]
    }
   ],
   "source": [
    "import scipy\n",
    "print(scipy.__version__)\n",
    "import tensorflow\n",
    "print(tensorflow.__version__)"
   ]
  },
  {
   "cell_type": "code",
   "execution_count": 5,
   "metadata": {},
   "outputs": [],
   "source": [
    "DATASET_TO_SIZES = {\n",
    "    'facades_train': 401,\n",
    "    'facades_test': 107\n",
    "}\n",
    "\n",
    "DATASET_TO_IMAGETYPE = {\n",
    "    'facades_train': '.jpg',\n",
    "    'facades_test': '.jpg',\n",
    "}\n",
    "\n",
    "PATH_TO_CSV = {\n",
    "    'facades_train': './input/facades/facades_train.csv',\n",
    "    'facades_test': './input/facades/facades_test.csv',\n",
    "}"
   ]
  },
  {
   "cell_type": "code",
   "execution_count": 6,
   "metadata": {},
   "outputs": [],
   "source": [
    "import create_cyclegan_dataset\n",
    "import importlib\n",
    "importlib.reload(create_cyclegan_dataset)\n",
    "from create_cyclegan_dataset import create_dataset\n",
    "\n",
    "\n",
    "image_path_a = 'input/facades/testA'\n",
    "image_path_b = 'input/facades/testB'\n",
    "dataset_name = 'facades_test'\n",
    "do_shuffle = 0\n",
    "create_dataset(image_path_a, image_path_b, dataset_name, do_shuffle, DATASET_TO_SIZES, DATASET_TO_IMAGETYPE, PATH_TO_CSV)"
   ]
  },
  {
   "cell_type": "code",
   "execution_count": 2,
   "metadata": {},
   "outputs": [
    {
     "name": "stderr",
     "output_type": "stream",
     "text": [
      "/fs/junkfood/ssaxena1/miniconda3/envs/gan/lib/python3.5/site-packages/h5py/__init__.py:34: FutureWarning: Conversion of the second argument of issubdtype from `float` to `np.floating` is deprecated. In future, it will be treated as `np.float64 == np.dtype(float).type`.\n",
      "  from ._conv import register_converters as _register_converters\n"
     ]
    },
    {
     "name": "stdout",
     "output_type": "stream",
     "text": [
      "WARNING:tensorflow:From /fs/junkfood/ssaxena1/Research/GAN/CycleGAN/main.py:96: get_or_create_global_step (from tensorflow.contrib.framework.python.ops.variables) is deprecated and will be removed in a future version.\n",
      "Instructions for updating:\n",
      "Please switch to tf.train.get_or_create_global_step\n",
      "Model/d_A/c1/Conv/weights:0\n",
      "Model/d_A/c1/Conv/biases:0\n",
      "Model/d_A/c2/Conv/weights:0\n",
      "Model/d_A/c2/Conv/biases:0\n",
      "Model/d_A/c2/instance_norm/scale:0\n",
      "Model/d_A/c2/instance_norm/offset:0\n",
      "Model/d_A/c3/Conv/weights:0\n",
      "Model/d_A/c3/Conv/biases:0\n",
      "Model/d_A/c3/instance_norm/scale:0\n",
      "Model/d_A/c3/instance_norm/offset:0\n",
      "Model/d_A/c4/Conv/weights:0\n",
      "Model/d_A/c4/Conv/biases:0\n",
      "Model/d_A/c4/instance_norm/scale:0\n",
      "Model/d_A/c4/instance_norm/offset:0\n",
      "Model/d_A/c5/Conv/weights:0\n",
      "Model/d_A/c5/Conv/biases:0\n",
      "Model/d_B/c1/Conv/weights:0\n",
      "Model/d_B/c1/Conv/biases:0\n",
      "Model/d_B/c2/Conv/weights:0\n",
      "Model/d_B/c2/Conv/biases:0\n",
      "Model/d_B/c2/instance_norm/scale:0\n",
      "Model/d_B/c2/instance_norm/offset:0\n",
      "Model/d_B/c3/Conv/weights:0\n",
      "Model/d_B/c3/Conv/biases:0\n",
      "Model/d_B/c3/instance_norm/scale:0\n",
      "Model/d_B/c3/instance_norm/offset:0\n",
      "Model/d_B/c4/Conv/weights:0\n",
      "Model/d_B/c4/Conv/biases:0\n",
      "Model/d_B/c4/instance_norm/scale:0\n",
      "Model/d_B/c4/instance_norm/offset:0\n",
      "Model/d_B/c5/Conv/weights:0\n",
      "Model/d_B/c5/Conv/biases:0\n",
      "Model/g_A/c1/Conv/weights:0\n",
      "Model/g_A/c1/Conv/biases:0\n",
      "Model/g_A/c1/instance_norm/scale:0\n",
      "Model/g_A/c1/instance_norm/offset:0\n",
      "Model/g_A/c2/Conv/weights:0\n",
      "Model/g_A/c2/Conv/biases:0\n",
      "Model/g_A/c2/instance_norm/scale:0\n",
      "Model/g_A/c2/instance_norm/offset:0\n",
      "Model/g_A/c3/Conv/weights:0\n",
      "Model/g_A/c3/Conv/biases:0\n",
      "Model/g_A/c3/instance_norm/scale:0\n",
      "Model/g_A/c3/instance_norm/offset:0\n",
      "Model/g_A/r1/c1/Conv/weights:0\n",
      "Model/g_A/r1/c1/Conv/biases:0\n",
      "Model/g_A/r1/c1/instance_norm/scale:0\n",
      "Model/g_A/r1/c1/instance_norm/offset:0\n",
      "Model/g_A/r1/c2/Conv/weights:0\n",
      "Model/g_A/r1/c2/Conv/biases:0\n",
      "Model/g_A/r1/c2/instance_norm/scale:0\n",
      "Model/g_A/r1/c2/instance_norm/offset:0\n",
      "Model/g_A/r2/c1/Conv/weights:0\n",
      "Model/g_A/r2/c1/Conv/biases:0\n",
      "Model/g_A/r2/c1/instance_norm/scale:0\n",
      "Model/g_A/r2/c1/instance_norm/offset:0\n",
      "Model/g_A/r2/c2/Conv/weights:0\n",
      "Model/g_A/r2/c2/Conv/biases:0\n",
      "Model/g_A/r2/c2/instance_norm/scale:0\n",
      "Model/g_A/r2/c2/instance_norm/offset:0\n",
      "Model/g_A/r3/c1/Conv/weights:0\n",
      "Model/g_A/r3/c1/Conv/biases:0\n",
      "Model/g_A/r3/c1/instance_norm/scale:0\n",
      "Model/g_A/r3/c1/instance_norm/offset:0\n",
      "Model/g_A/r3/c2/Conv/weights:0\n",
      "Model/g_A/r3/c2/Conv/biases:0\n",
      "Model/g_A/r3/c2/instance_norm/scale:0\n",
      "Model/g_A/r3/c2/instance_norm/offset:0\n",
      "Model/g_A/r4/c1/Conv/weights:0\n",
      "Model/g_A/r4/c1/Conv/biases:0\n",
      "Model/g_A/r4/c1/instance_norm/scale:0\n",
      "Model/g_A/r4/c1/instance_norm/offset:0\n",
      "Model/g_A/r4/c2/Conv/weights:0\n",
      "Model/g_A/r4/c2/Conv/biases:0\n",
      "Model/g_A/r4/c2/instance_norm/scale:0\n",
      "Model/g_A/r4/c2/instance_norm/offset:0\n",
      "Model/g_A/r5/c1/Conv/weights:0\n",
      "Model/g_A/r5/c1/Conv/biases:0\n",
      "Model/g_A/r5/c1/instance_norm/scale:0\n",
      "Model/g_A/r5/c1/instance_norm/offset:0\n",
      "Model/g_A/r5/c2/Conv/weights:0\n",
      "Model/g_A/r5/c2/Conv/biases:0\n",
      "Model/g_A/r5/c2/instance_norm/scale:0\n",
      "Model/g_A/r5/c2/instance_norm/offset:0\n",
      "Model/g_A/r6/c1/Conv/weights:0\n",
      "Model/g_A/r6/c1/Conv/biases:0\n",
      "Model/g_A/r6/c1/instance_norm/scale:0\n",
      "Model/g_A/r6/c1/instance_norm/offset:0\n",
      "Model/g_A/r6/c2/Conv/weights:0\n",
      "Model/g_A/r6/c2/Conv/biases:0\n",
      "Model/g_A/r6/c2/instance_norm/scale:0\n",
      "Model/g_A/r6/c2/instance_norm/offset:0\n",
      "Model/g_A/r7/c1/Conv/weights:0\n",
      "Model/g_A/r7/c1/Conv/biases:0\n",
      "Model/g_A/r7/c1/instance_norm/scale:0\n",
      "Model/g_A/r7/c1/instance_norm/offset:0\n",
      "Model/g_A/r7/c2/Conv/weights:0\n",
      "Model/g_A/r7/c2/Conv/biases:0\n",
      "Model/g_A/r7/c2/instance_norm/scale:0\n",
      "Model/g_A/r7/c2/instance_norm/offset:0\n",
      "Model/g_A/r8/c1/Conv/weights:0\n",
      "Model/g_A/r8/c1/Conv/biases:0\n",
      "Model/g_A/r8/c1/instance_norm/scale:0\n",
      "Model/g_A/r8/c1/instance_norm/offset:0\n",
      "Model/g_A/r8/c2/Conv/weights:0\n",
      "Model/g_A/r8/c2/Conv/biases:0\n",
      "Model/g_A/r8/c2/instance_norm/scale:0\n",
      "Model/g_A/r8/c2/instance_norm/offset:0\n",
      "Model/g_A/r9/c1/Conv/weights:0\n",
      "Model/g_A/r9/c1/Conv/biases:0\n",
      "Model/g_A/r9/c1/instance_norm/scale:0\n",
      "Model/g_A/r9/c1/instance_norm/offset:0\n",
      "Model/g_A/r9/c2/Conv/weights:0\n",
      "Model/g_A/r9/c2/Conv/biases:0\n",
      "Model/g_A/r9/c2/instance_norm/scale:0\n",
      "Model/g_A/r9/c2/instance_norm/offset:0\n",
      "Model/g_A/c4/Conv2d_transpose/weights:0\n",
      "Model/g_A/c4/Conv2d_transpose/biases:0\n",
      "Model/g_A/c4/instance_norm/scale:0\n",
      "Model/g_A/c4/instance_norm/offset:0\n",
      "Model/g_A/c5/Conv2d_transpose/weights:0\n",
      "Model/g_A/c5/Conv2d_transpose/biases:0\n",
      "Model/g_A/c5/instance_norm/scale:0\n",
      "Model/g_A/c5/instance_norm/offset:0\n",
      "Model/g_A/c6/Conv/weights:0\n",
      "Model/g_A/c6/Conv/biases:0\n",
      "Model/g_B/c1/Conv/weights:0\n",
      "Model/g_B/c1/Conv/biases:0\n",
      "Model/g_B/c1/instance_norm/scale:0\n",
      "Model/g_B/c1/instance_norm/offset:0\n",
      "Model/g_B/c2/Conv/weights:0\n",
      "Model/g_B/c2/Conv/biases:0\n",
      "Model/g_B/c2/instance_norm/scale:0\n",
      "Model/g_B/c2/instance_norm/offset:0\n",
      "Model/g_B/c3/Conv/weights:0\n",
      "Model/g_B/c3/Conv/biases:0\n",
      "Model/g_B/c3/instance_norm/scale:0\n",
      "Model/g_B/c3/instance_norm/offset:0\n",
      "Model/g_B/r1/c1/Conv/weights:0\n",
      "Model/g_B/r1/c1/Conv/biases:0\n",
      "Model/g_B/r1/c1/instance_norm/scale:0\n",
      "Model/g_B/r1/c1/instance_norm/offset:0\n",
      "Model/g_B/r1/c2/Conv/weights:0\n",
      "Model/g_B/r1/c2/Conv/biases:0\n",
      "Model/g_B/r1/c2/instance_norm/scale:0\n",
      "Model/g_B/r1/c2/instance_norm/offset:0\n",
      "Model/g_B/r2/c1/Conv/weights:0\n",
      "Model/g_B/r2/c1/Conv/biases:0\n",
      "Model/g_B/r2/c1/instance_norm/scale:0\n",
      "Model/g_B/r2/c1/instance_norm/offset:0\n",
      "Model/g_B/r2/c2/Conv/weights:0\n",
      "Model/g_B/r2/c2/Conv/biases:0\n",
      "Model/g_B/r2/c2/instance_norm/scale:0\n",
      "Model/g_B/r2/c2/instance_norm/offset:0\n",
      "Model/g_B/r3/c1/Conv/weights:0\n",
      "Model/g_B/r3/c1/Conv/biases:0\n",
      "Model/g_B/r3/c1/instance_norm/scale:0\n",
      "Model/g_B/r3/c1/instance_norm/offset:0\n",
      "Model/g_B/r3/c2/Conv/weights:0\n",
      "Model/g_B/r3/c2/Conv/biases:0\n",
      "Model/g_B/r3/c2/instance_norm/scale:0\n",
      "Model/g_B/r3/c2/instance_norm/offset:0\n",
      "Model/g_B/r4/c1/Conv/weights:0\n",
      "Model/g_B/r4/c1/Conv/biases:0\n",
      "Model/g_B/r4/c1/instance_norm/scale:0\n",
      "Model/g_B/r4/c1/instance_norm/offset:0\n",
      "Model/g_B/r4/c2/Conv/weights:0\n",
      "Model/g_B/r4/c2/Conv/biases:0\n",
      "Model/g_B/r4/c2/instance_norm/scale:0\n",
      "Model/g_B/r4/c2/instance_norm/offset:0\n",
      "Model/g_B/r5/c1/Conv/weights:0\n",
      "Model/g_B/r5/c1/Conv/biases:0\n",
      "Model/g_B/r5/c1/instance_norm/scale:0\n",
      "Model/g_B/r5/c1/instance_norm/offset:0\n",
      "Model/g_B/r5/c2/Conv/weights:0\n",
      "Model/g_B/r5/c2/Conv/biases:0\n",
      "Model/g_B/r5/c2/instance_norm/scale:0\n",
      "Model/g_B/r5/c2/instance_norm/offset:0\n",
      "Model/g_B/r6/c1/Conv/weights:0\n",
      "Model/g_B/r6/c1/Conv/biases:0\n",
      "Model/g_B/r6/c1/instance_norm/scale:0\n",
      "Model/g_B/r6/c1/instance_norm/offset:0\n",
      "Model/g_B/r6/c2/Conv/weights:0\n",
      "Model/g_B/r6/c2/Conv/biases:0\n",
      "Model/g_B/r6/c2/instance_norm/scale:0\n",
      "Model/g_B/r6/c2/instance_norm/offset:0\n",
      "Model/g_B/r7/c1/Conv/weights:0\n",
      "Model/g_B/r7/c1/Conv/biases:0\n",
      "Model/g_B/r7/c1/instance_norm/scale:0\n",
      "Model/g_B/r7/c1/instance_norm/offset:0\n",
      "Model/g_B/r7/c2/Conv/weights:0\n",
      "Model/g_B/r7/c2/Conv/biases:0\n",
      "Model/g_B/r7/c2/instance_norm/scale:0\n",
      "Model/g_B/r7/c2/instance_norm/offset:0\n",
      "Model/g_B/r8/c1/Conv/weights:0\n",
      "Model/g_B/r8/c1/Conv/biases:0\n",
      "Model/g_B/r8/c1/instance_norm/scale:0\n",
      "Model/g_B/r8/c1/instance_norm/offset:0\n",
      "Model/g_B/r8/c2/Conv/weights:0\n",
      "Model/g_B/r8/c2/Conv/biases:0\n",
      "Model/g_B/r8/c2/instance_norm/scale:0\n",
      "Model/g_B/r8/c2/instance_norm/offset:0\n",
      "Model/g_B/r9/c1/Conv/weights:0\n",
      "Model/g_B/r9/c1/Conv/biases:0\n",
      "Model/g_B/r9/c1/instance_norm/scale:0\n",
      "Model/g_B/r9/c1/instance_norm/offset:0\n",
      "Model/g_B/r9/c2/Conv/weights:0\n",
      "Model/g_B/r9/c2/Conv/biases:0\n",
      "Model/g_B/r9/c2/instance_norm/scale:0\n",
      "Model/g_B/r9/c2/instance_norm/offset:0\n",
      "Model/g_B/c4/Conv2d_transpose/weights:0\n",
      "Model/g_B/c4/Conv2d_transpose/biases:0\n",
      "Model/g_B/c4/instance_norm/scale:0\n",
      "Model/g_B/c4/instance_norm/offset:0\n",
      "Model/g_B/c5/Conv2d_transpose/weights:0\n",
      "Model/g_B/c5/Conv2d_transpose/biases:0\n",
      "Model/g_B/c5/instance_norm/scale:0\n",
      "Model/g_B/c5/instance_norm/offset:0\n",
      "Model/g_B/c6/Conv/weights:0\n",
      "Model/g_B/c6/Conv/biases:0\n",
      "INFO:tensorflow:Restoring parameters from output/cyclegan/facades/20200525-214032/cyclegan-0\n",
      "Epoch 0/200\n"
     ]
    },
    {
     "name": "stderr",
     "output_type": "stream",
     "text": [
      "  0%|          | 2/401 [00:43<2:32:00, 22.86s/it]"
     ]
    },
    {
     "name": "stdout",
     "output_type": "stream",
     "text": [
      "INFO:tensorflow:Error reported to Coordinator: <class 'tensorflow.python.framework.errors_impl.CancelledError'>, Enqueue operation was cancelled\n",
      "\t [[Node: input_producer/input_producer_EnqueueMany = QueueEnqueueManyV2[Tcomponents=[DT_STRING], timeout_ms=-1, _device=\"/job:localhost/replica:0/task:0/device:CPU:0\"](input_producer, input_producer/RandomShuffle)]]\n"
     ]
    },
    {
     "ename": "KeyboardInterrupt",
     "evalue": "",
     "output_type": "error",
     "traceback": [
      "\u001b[0;31m---------------------------------------------------------------------------\u001b[0m",
      "\u001b[0;31mKeyboardInterrupt\u001b[0m                         Traceback (most recent call last)",
      "\u001b[0;32m<ipython-input-2-c9b407203667>\u001b[0m in \u001b[0;36m<module>\u001b[0;34m()\u001b[0m\n\u001b[1;32m      6\u001b[0m \u001b[0mskip\u001b[0m \u001b[0;34m=\u001b[0m \u001b[0;32mTrue\u001b[0m\u001b[0;34m\u001b[0m\u001b[0m\n\u001b[1;32m      7\u001b[0m \u001b[0mcheckpoint_dir\u001b[0m\u001b[0;34m=\u001b[0m \u001b[0;34m\"output/cyclegan/facades/20200525-214032\"\u001b[0m\u001b[0;34m\u001b[0m\u001b[0m\n\u001b[0;32m----> 8\u001b[0;31m \u001b[0mmain\u001b[0m\u001b[0;34m(\u001b[0m\u001b[0mto_train\u001b[0m\u001b[0;34m,\u001b[0m \u001b[0mlog_dir\u001b[0m\u001b[0;34m,\u001b[0m \u001b[0mconfig_filename\u001b[0m\u001b[0;34m,\u001b[0m \u001b[0mcheckpoint_dir\u001b[0m\u001b[0;34m,\u001b[0m \u001b[0mskip\u001b[0m\u001b[0;34m,\u001b[0m \u001b[0msave_training_images\u001b[0m\u001b[0;34m=\u001b[0m\u001b[0;32mFalse\u001b[0m\u001b[0;34m)\u001b[0m\u001b[0;34m\u001b[0m\u001b[0m\n\u001b[0m",
      "\u001b[0;32m~/Research/GAN/CycleGAN/main.py\u001b[0m in \u001b[0;36mmain\u001b[0;34m(to_train, log_dir, config_filename, checkpoint_dir, skip, save_training_images)\u001b[0m\n\u001b[1;32m    461\u001b[0m \u001b[0;34m\u001b[0m\u001b[0m\n\u001b[1;32m    462\u001b[0m     \u001b[0;32mif\u001b[0m \u001b[0mto_train\u001b[0m \u001b[0;34m>\u001b[0m \u001b[0;36m0\u001b[0m\u001b[0;34m:\u001b[0m\u001b[0;34m\u001b[0m\u001b[0m\n\u001b[0;32m--> 463\u001b[0;31m         \u001b[0mcyclegan_model\u001b[0m\u001b[0;34m.\u001b[0m\u001b[0mtrain\u001b[0m\u001b[0;34m(\u001b[0m\u001b[0msave_training_images\u001b[0m\u001b[0;34m)\u001b[0m\u001b[0;34m\u001b[0m\u001b[0m\n\u001b[0m\u001b[1;32m    464\u001b[0m     \u001b[0;32melse\u001b[0m\u001b[0;34m:\u001b[0m\u001b[0;34m\u001b[0m\u001b[0m\n\u001b[1;32m    465\u001b[0m         \u001b[0mcyclegan_model\u001b[0m\u001b[0;34m.\u001b[0m\u001b[0mtest\u001b[0m\u001b[0;34m(\u001b[0m\u001b[0;34m)\u001b[0m\u001b[0;34m\u001b[0m\u001b[0m\n",
      "\u001b[0;32m~/Research/GAN/CycleGAN/main.py\u001b[0m in \u001b[0;36mtrain\u001b[0;34m(self, save_images)\u001b[0m\n\u001b[1;32m    313\u001b[0m                             \u001b[0mself\u001b[0m\u001b[0;34m.\u001b[0m\u001b[0minput_b\u001b[0m\u001b[0;34m:\u001b[0m\u001b[0;34m\u001b[0m\u001b[0m\n\u001b[1;32m    314\u001b[0m                                 \u001b[0minputs\u001b[0m\u001b[0;34m[\u001b[0m\u001b[0;34m'images_j'\u001b[0m\u001b[0;34m]\u001b[0m\u001b[0;34m,\u001b[0m\u001b[0;34m\u001b[0m\u001b[0m\n\u001b[0;32m--> 315\u001b[0;31m                             \u001b[0mself\u001b[0m\u001b[0;34m.\u001b[0m\u001b[0mlearning_rate\u001b[0m\u001b[0;34m:\u001b[0m \u001b[0mcurr_lr\u001b[0m\u001b[0;34m\u001b[0m\u001b[0m\n\u001b[0m\u001b[1;32m    316\u001b[0m                         }\n\u001b[1;32m    317\u001b[0m                     )\n",
      "\u001b[0;32m~/miniconda3/envs/gan/lib/python3.5/site-packages/tensorflow/python/client/session.py\u001b[0m in \u001b[0;36mrun\u001b[0;34m(self, fetches, feed_dict, options, run_metadata)\u001b[0m\n\u001b[1;32m    887\u001b[0m     \u001b[0;32mtry\u001b[0m\u001b[0;34m:\u001b[0m\u001b[0;34m\u001b[0m\u001b[0m\n\u001b[1;32m    888\u001b[0m       result = self._run(None, fetches, feed_dict, options_ptr,\n\u001b[0;32m--> 889\u001b[0;31m                          run_metadata_ptr)\n\u001b[0m\u001b[1;32m    890\u001b[0m       \u001b[0;32mif\u001b[0m \u001b[0mrun_metadata\u001b[0m\u001b[0;34m:\u001b[0m\u001b[0;34m\u001b[0m\u001b[0m\n\u001b[1;32m    891\u001b[0m         \u001b[0mproto_data\u001b[0m \u001b[0;34m=\u001b[0m \u001b[0mtf_session\u001b[0m\u001b[0;34m.\u001b[0m\u001b[0mTF_GetBuffer\u001b[0m\u001b[0;34m(\u001b[0m\u001b[0mrun_metadata_ptr\u001b[0m\u001b[0;34m)\u001b[0m\u001b[0;34m\u001b[0m\u001b[0m\n",
      "\u001b[0;32m~/miniconda3/envs/gan/lib/python3.5/site-packages/tensorflow/python/client/session.py\u001b[0m in \u001b[0;36m_run\u001b[0;34m(self, handle, fetches, feed_dict, options, run_metadata)\u001b[0m\n\u001b[1;32m   1118\u001b[0m     \u001b[0;32mif\u001b[0m \u001b[0mfinal_fetches\u001b[0m \u001b[0;32mor\u001b[0m \u001b[0mfinal_targets\u001b[0m \u001b[0;32mor\u001b[0m \u001b[0;34m(\u001b[0m\u001b[0mhandle\u001b[0m \u001b[0;32mand\u001b[0m \u001b[0mfeed_dict_tensor\u001b[0m\u001b[0;34m)\u001b[0m\u001b[0;34m:\u001b[0m\u001b[0;34m\u001b[0m\u001b[0m\n\u001b[1;32m   1119\u001b[0m       results = self._do_run(handle, final_targets, final_fetches,\n\u001b[0;32m-> 1120\u001b[0;31m                              feed_dict_tensor, options, run_metadata)\n\u001b[0m\u001b[1;32m   1121\u001b[0m     \u001b[0;32melse\u001b[0m\u001b[0;34m:\u001b[0m\u001b[0;34m\u001b[0m\u001b[0m\n\u001b[1;32m   1122\u001b[0m       \u001b[0mresults\u001b[0m \u001b[0;34m=\u001b[0m \u001b[0;34m[\u001b[0m\u001b[0;34m]\u001b[0m\u001b[0;34m\u001b[0m\u001b[0m\n",
      "\u001b[0;32m~/miniconda3/envs/gan/lib/python3.5/site-packages/tensorflow/python/client/session.py\u001b[0m in \u001b[0;36m_do_run\u001b[0;34m(self, handle, target_list, fetch_list, feed_dict, options, run_metadata)\u001b[0m\n\u001b[1;32m   1315\u001b[0m     \u001b[0;32mif\u001b[0m \u001b[0mhandle\u001b[0m \u001b[0;32mis\u001b[0m \u001b[0;32mNone\u001b[0m\u001b[0;34m:\u001b[0m\u001b[0;34m\u001b[0m\u001b[0m\n\u001b[1;32m   1316\u001b[0m       return self._do_call(_run_fn, self._session, feeds, fetches, targets,\n\u001b[0;32m-> 1317\u001b[0;31m                            options, run_metadata)\n\u001b[0m\u001b[1;32m   1318\u001b[0m     \u001b[0;32melse\u001b[0m\u001b[0;34m:\u001b[0m\u001b[0;34m\u001b[0m\u001b[0m\n\u001b[1;32m   1319\u001b[0m       \u001b[0;32mreturn\u001b[0m \u001b[0mself\u001b[0m\u001b[0;34m.\u001b[0m\u001b[0m_do_call\u001b[0m\u001b[0;34m(\u001b[0m\u001b[0m_prun_fn\u001b[0m\u001b[0;34m,\u001b[0m \u001b[0mself\u001b[0m\u001b[0;34m.\u001b[0m\u001b[0m_session\u001b[0m\u001b[0;34m,\u001b[0m \u001b[0mhandle\u001b[0m\u001b[0;34m,\u001b[0m \u001b[0mfeeds\u001b[0m\u001b[0;34m,\u001b[0m \u001b[0mfetches\u001b[0m\u001b[0;34m)\u001b[0m\u001b[0;34m\u001b[0m\u001b[0m\n",
      "\u001b[0;32m~/miniconda3/envs/gan/lib/python3.5/site-packages/tensorflow/python/client/session.py\u001b[0m in \u001b[0;36m_do_call\u001b[0;34m(self, fn, *args)\u001b[0m\n\u001b[1;32m   1321\u001b[0m   \u001b[0;32mdef\u001b[0m \u001b[0m_do_call\u001b[0m\u001b[0;34m(\u001b[0m\u001b[0mself\u001b[0m\u001b[0;34m,\u001b[0m \u001b[0mfn\u001b[0m\u001b[0;34m,\u001b[0m \u001b[0;34m*\u001b[0m\u001b[0margs\u001b[0m\u001b[0;34m)\u001b[0m\u001b[0;34m:\u001b[0m\u001b[0;34m\u001b[0m\u001b[0m\n\u001b[1;32m   1322\u001b[0m     \u001b[0;32mtry\u001b[0m\u001b[0;34m:\u001b[0m\u001b[0;34m\u001b[0m\u001b[0m\n\u001b[0;32m-> 1323\u001b[0;31m       \u001b[0;32mreturn\u001b[0m \u001b[0mfn\u001b[0m\u001b[0;34m(\u001b[0m\u001b[0;34m*\u001b[0m\u001b[0margs\u001b[0m\u001b[0;34m)\u001b[0m\u001b[0;34m\u001b[0m\u001b[0m\n\u001b[0m\u001b[1;32m   1324\u001b[0m     \u001b[0;32mexcept\u001b[0m \u001b[0merrors\u001b[0m\u001b[0;34m.\u001b[0m\u001b[0mOpError\u001b[0m \u001b[0;32mas\u001b[0m \u001b[0me\u001b[0m\u001b[0;34m:\u001b[0m\u001b[0;34m\u001b[0m\u001b[0m\n\u001b[1;32m   1325\u001b[0m       \u001b[0mmessage\u001b[0m \u001b[0;34m=\u001b[0m \u001b[0mcompat\u001b[0m\u001b[0;34m.\u001b[0m\u001b[0mas_text\u001b[0m\u001b[0;34m(\u001b[0m\u001b[0me\u001b[0m\u001b[0;34m.\u001b[0m\u001b[0mmessage\u001b[0m\u001b[0;34m)\u001b[0m\u001b[0;34m\u001b[0m\u001b[0m\n",
      "\u001b[0;32m~/miniconda3/envs/gan/lib/python3.5/site-packages/tensorflow/python/client/session.py\u001b[0m in \u001b[0;36m_run_fn\u001b[0;34m(session, feed_dict, fetch_list, target_list, options, run_metadata)\u001b[0m\n\u001b[1;32m   1300\u001b[0m           return tf_session.TF_Run(session, options,\n\u001b[1;32m   1301\u001b[0m                                    \u001b[0mfeed_dict\u001b[0m\u001b[0;34m,\u001b[0m \u001b[0mfetch_list\u001b[0m\u001b[0;34m,\u001b[0m \u001b[0mtarget_list\u001b[0m\u001b[0;34m,\u001b[0m\u001b[0;34m\u001b[0m\u001b[0m\n\u001b[0;32m-> 1302\u001b[0;31m                                    status, run_metadata)\n\u001b[0m\u001b[1;32m   1303\u001b[0m \u001b[0;34m\u001b[0m\u001b[0m\n\u001b[1;32m   1304\u001b[0m     \u001b[0;32mdef\u001b[0m \u001b[0m_prun_fn\u001b[0m\u001b[0;34m(\u001b[0m\u001b[0msession\u001b[0m\u001b[0;34m,\u001b[0m \u001b[0mhandle\u001b[0m\u001b[0;34m,\u001b[0m \u001b[0mfeed_dict\u001b[0m\u001b[0;34m,\u001b[0m \u001b[0mfetch_list\u001b[0m\u001b[0;34m)\u001b[0m\u001b[0;34m:\u001b[0m\u001b[0;34m\u001b[0m\u001b[0m\n",
      "\u001b[0;31mKeyboardInterrupt\u001b[0m: "
     ]
    }
   ],
   "source": [
    "from main import main\n",
    "\n",
    "to_train = 2\n",
    "log_dir = \"output/cyclegan/facades\"\n",
    "config_filename = \"configs/facades.json\"\n",
    "skip = True\n",
    "checkpoint_dir= \"output/cyclegan/facades/20200525-214032\"\n",
    "main(to_train, log_dir, config_filename, checkpoint_dir, skip, save_training_images=False)"
   ]
  },
  {
   "cell_type": "code",
   "execution_count": 3,
   "metadata": {},
   "outputs": [
    {
     "name": "stderr",
     "output_type": "stream",
     "text": [
      "/fs/junkfood/ssaxena1/miniconda3/envs/gan/lib/python3.5/site-packages/h5py/__init__.py:34: FutureWarning: Conversion of the second argument of issubdtype from `float` to `np.floating` is deprecated. In future, it will be treated as `np.float64 == np.dtype(float).type`.\n",
      "  from ._conv import register_converters as _register_converters\n"
     ]
    },
    {
     "name": "stdout",
     "output_type": "stream",
     "text": [
      "Testing the results\n",
      "WARNING:tensorflow:From /fs/junkfood/ssaxena1/Research/GAN/CycleGAN/main.py:96: get_or_create_global_step (from tensorflow.contrib.framework.python.ops.variables) is deprecated and will be removed in a future version.\n",
      "Instructions for updating:\n",
      "Please switch to tf.train.get_or_create_global_step\n",
      "INFO:tensorflow:Restoring parameters from output/cyclegan/facades/20200525-214032/cyclegan-0\n"
     ]
    },
    {
     "name": "stderr",
     "output_type": "stream",
     "text": [
      "  0%|          | 0/107 [00:00<?, ?it/s]"
     ]
    },
    {
     "name": "stdout",
     "output_type": "stream",
     "text": [
      "Saving Images\n"
     ]
    },
    {
     "name": "stderr",
     "output_type": "stream",
     "text": [
      "100%|██████████| 107/107 [03:57<00:00,  2.21s/it]\n"
     ]
    }
   ],
   "source": [
    "from main import main\n",
    "\n",
    "to_train = 0\n",
    "log_dir = \"output/cyclegan/facades\"\n",
    "config_filename = \"configs/facades_test.json\"\n",
    "skip = True\n",
    "checkpoint_dir= \"output/cyclegan/facades/20200525-214032\"\n",
    "main(to_train, log_dir, config_filename, checkpoint_dir, skip)"
   ]
  },
  {
   "cell_type": "code",
   "execution_count": null,
   "metadata": {},
   "outputs": [],
   "source": []
  }
 ],
 "metadata": {
  "kernelspec": {
   "display_name": "Python 3",
   "language": "python",
   "name": "python3"
  },
  "language_info": {
   "codemirror_mode": {
    "name": "ipython",
    "version": 3
   },
   "file_extension": ".py",
   "mimetype": "text/x-python",
   "name": "python",
   "nbconvert_exporter": "python",
   "pygments_lexer": "ipython3",
   "version": "3.5.6"
  }
 },
 "nbformat": 4,
 "nbformat_minor": 4
}
