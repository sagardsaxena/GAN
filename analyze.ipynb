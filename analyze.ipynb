{
 "cells": [
  {
   "cell_type": "markdown",
   "metadata": {},
   "source": [
    "# Analysis of Image to Image GANs"
   ]
  },
  {
   "cell_type": "code",
   "execution_count": 2,
   "metadata": {},
   "outputs": [],
   "source": [
    "from utils import *\n",
    "from fid import FID"
   ]
  },
  {
   "cell_type": "code",
   "execution_count": null,
   "metadata": {},
   "outputs": [],
   "source": [
    "real_path = \"Pix2Pix/figures/facades/202/training/full\"\n",
    "gen_path = \"Pix2Pix/figures/facades/202/training/gen\"\n",
    "i, j = get_images(real_path, gen_path)\n",
    "\n",
    "fid = FID()\n",
    "print(fid.find_fid(i, j))"
   ]
  },
  {
   "cell_type": "markdown",
   "metadata": {},
   "source": [
    "## Training and Analyzing Pix2Pix\n",
    "\n",
    "The code below trains the Pix2Pix model on a given dataset. You can provide your own arguments to train this model by altering the d_params dictionary. These are the arguments I have set in the code block below:\n",
    "\n",
    "* dset - Location of the dataset within the logging directory\n",
    "* batch_size - Size of batch for training\n",
    "* n_batch_per_epoch - Number of batches in one epoch\n",
    "* model_name - Name/Location of the model within the logging directory\n",
    "* epoch - Number of epochs in one saving/analyzing iteration\n",
    "* do_plot - Prints model summary and plots model architecture\n",
    "* image_data_format - channels_last for tensorflow backend and channels_first for theano backend\n",
    "* img_dim - Dimension of the Square Image\n",
    "* patch_size - Patch Size for the discriminator\n",
    "* logging_dir - The directory where everything is stored (models, logs, data, figures)\n",
    "* save_latest - Saves only the latest model (space efficient)\n",
    "* load_model - Location of saved models or None\n",
    "* load_epoch - Epoch of saved models or latest or None"
   ]
  },
  {
   "cell_type": "code",
   "execution_count": null,
   "metadata": {},
   "outputs": [
    {
     "name": "stdout",
     "output_type": "stream",
     "text": [
      "Start training\n",
      "396/400 [============================>.] - ETA: 8s - D logloss: 0.6939 - G tot: 4.0849 - G L1: 0.3408 - G logloss: 0.6771 \n",
      "Epoch 1/400, Time: 812.6493449211121\n"
     ]
    }
   ],
   "source": [
    "import os\n",
    "import argparse\n",
    "import sys\n",
    "\n",
    "os.environ[\"KERAS_BACKEND\"] = \"tensorflow\"\n",
    "import keras.backend as K\n",
    "K.set_image_data_format(\"channels_last\")\n",
    "\n",
    "sys.path.append(\"Pix2Pix/src/model/\")\n",
    "sys.path.append(\"Pix2Pix/src/utils/\")\n",
    "import train\n",
    "\n",
    "d_params = {\"dset\": \"facades\",\n",
    "            \"generator\": \"upsampling\",\n",
    "            \"batch_size\": 4,\n",
    "            \"n_batch_per_epoch\": 100,\n",
    "            \"nb_epoch\": 400,\n",
    "            \"model_name\": \"facades\",\n",
    "            \"epoch\": 10,\n",
    "            \"nb_classes\": 2,\n",
    "            \"do_plot\": False,\n",
    "            \"image_data_format\": \"channels_last\",\n",
    "            \"bn_mode\": 2,\n",
    "            \"img_dim\": 256,\n",
    "            \"use_label_smoothing\": False,\n",
    "            \"label_flipping\": 0,\n",
    "            \"patch_size\": (64, 64),\n",
    "            \"use_mbd\": False,\n",
    "            \"logging_dir\": \"Pix2Pix\",\n",
    "            \"save_latest\": True,\n",
    "            \"load_model\": \"facades_old\",\n",
    "            \"load_epoch\": \"latest\"\n",
    "            }\n",
    "\n",
    "train.train(**d_params)"
   ]
  },
  {
   "cell_type": "code",
   "execution_count": null,
   "metadata": {},
   "outputs": [],
   "source": []
  }
 ],
 "metadata": {
  "kernelspec": {
   "display_name": "Python 3",
   "language": "python",
   "name": "python3"
  },
  "language_info": {
   "codemirror_mode": {
    "name": "ipython",
    "version": 3
   },
   "file_extension": ".py",
   "mimetype": "text/x-python",
   "name": "python",
   "nbconvert_exporter": "python",
   "pygments_lexer": "ipython3",
   "version": "3.5.6"
  }
 },
 "nbformat": 4,
 "nbformat_minor": 4
}
