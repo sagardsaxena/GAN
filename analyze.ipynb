{
 "cells": [
  {
   "cell_type": "markdown",
   "metadata": {},
   "source": [
    "# Analysis of Image to Image GANs"
   ]
  },
  {
   "cell_type": "code",
   "execution_count": 1,
   "metadata": {},
   "outputs": [
    {
     "name": "stderr",
     "output_type": "stream",
     "text": [
      "/fs/junkfood/ssaxena1/miniconda3/envs/gan/lib/python3.5/site-packages/h5py/__init__.py:34: FutureWarning: Conversion of the second argument of issubdtype from `float` to `np.floating` is deprecated. In future, it will be treated as `np.float64 == np.dtype(float).type`.\n",
      "  from ._conv import register_converters as _register_converters\n",
      "Using TensorFlow backend.\n"
     ]
    }
   ],
   "source": [
    "from utils import *\n",
    "from fid import FID"
   ]
  },
  {
   "cell_type": "code",
   "execution_count": 2,
   "metadata": {},
   "outputs": [
    {
     "name": "stdout",
     "output_type": "stream",
     "text": [
      "304.8691472840694\n"
     ]
    }
   ],
   "source": [
    "real_path = \"Pix2Pix/figures/facades_old/202/training/full\"\n",
    "gen_path = \"Pix2Pix/figures/facades_old/202/training/gen\"\n",
    "i, j = get_images(real_path, gen_path)\n",
    "\n",
    "fid = FID()\n",
    "print(fid.find_fid(i, j))"
   ]
  },
  {
   "cell_type": "markdown",
   "metadata": {},
   "source": [
    "## Training and Analyzing Pix2Pix\n",
    "\n",
    "The code below trains and analyzes the Pix2Pix model on a given dataset. \n",
    "\n",
    "You can provide your own arguments to train this model by altering the d_params dictionary. These are the arguments I have set in the code block below:\n",
    "\n",
    "* dset - Location of the dataset within the logging directory\n",
    "* batch_size - Size of batch for training\n",
    "* n_batch_per_epoch - Number of batches in one epoch\n",
    "* model_name - Name/Location of the model within the logging directory\n",
    "* epoch - Number of epochs in one saving/analyzing iteration\n",
    "* do_plot - Prints model summary and plots model architecture\n",
    "* image_data_format - channels_last for tensorflow backend and channels_first for theano backend\n",
    "* img_dim - Dimension of the Square Image\n",
    "* patch_size - Patch Size for the discriminator\n",
    "* logging_dir - The directory where everything is stored (models, logs, data, figures)\n",
    "* save_latest - Saves only the latest model (space efficient)\n",
    "* load_model - Location of saved models or None\n",
    "* load_epoch - Epoch of saved models or latest or None\n",
    "* base_epoch - Base epoch for all stats and graphs (default is 0)\n",
    "\n",
    "To analyze this model while its training, add the following arguments to d_params\"\n",
    "\n",
    "* analyze - method of analysis\n",
    "* analyze_batch - batch of images to analyze"
   ]
  },
  {
   "cell_type": "code",
   "execution_count": 3,
   "metadata": {},
   "outputs": [
    {
     "name": "stdout",
     "output_type": "stream",
     "text": [
      "Start training\n",
      "396/400 [============================>.] - ETA: 8s - D logloss: 0.6939 - G tot: 4.0515 - G L1: 0.3374 - G logloss: 0.6771 \n",
      "Epoch 201/400, Time: 886.7542498111725\n",
      "Custom Analysis: Training - 268 Validation - 327\n",
      " 36/400 [=>............................] - ETA: 12:04 - D logloss: 0.6925 - G tot: 4.0662 - G L1: 0.3385 - G logloss: 0.6812"
     ]
    }
   ],
   "source": [
    "import os\n",
    "import argparse\n",
    "import sys\n",
    "\n",
    "os.environ[\"KERAS_BACKEND\"] = \"tensorflow\"\n",
    "import keras.backend as K\n",
    "K.set_image_data_format(\"channels_last\")\n",
    "\n",
    "sys.path.append(\"Pix2Pix/src/model/\")\n",
    "sys.path.append(\"Pix2Pix/src/utils/\")\n",
    "import train\n",
    "\n",
    "d_params = {\"dset\": \"facades\",\n",
    "            \"generator\": \"upsampling\",\n",
    "            \"batch_size\": 4,\n",
    "            \"n_batch_per_epoch\": 100,\n",
    "            \"nb_epoch\": 400,\n",
    "            \"model_name\": \"facades\",\n",
    "            \"epoch\": 1,\n",
    "            \"nb_classes\": 2,\n",
    "            \"do_plot\": False,\n",
    "            \"image_data_format\": \"channels_last\",\n",
    "            \"bn_mode\": 2,\n",
    "            \"img_dim\": 256,\n",
    "            \"use_label_smoothing\": False,\n",
    "            \"label_flipping\": 0,\n",
    "            \"patch_size\": (64, 64),\n",
    "            \"use_mbd\": False,\n",
    "            \"logging_dir\": \"Pix2Pix\",\n",
    "            \"save_latest\": True,\n",
    "            \"load_model\": \"facades_old\",\n",
    "            \"load_epoch\": \"latest\",\n",
    "            \"base_epoch\": 200,\n",
    "            \"analyze\": fid,\n",
    "            \"analyze_batch\": 5\n",
    "            }\n",
    "\n",
    "analysis = train.train(**d_params)"
   ]
  },
  {
   "cell_type": "code",
   "execution_count": 9,
   "metadata": {},
   "outputs": [
    {
     "data": {
      "image/png": "[encoded data removed]",
      "text/plain": [
       "<matplotlib.figure.Figure at 0x7fce712047b8>"
      ]
     },
     "metadata": {
      "needs_background": "light"
     },
     "output_type": "display_data"
    },
    {
     "data": {
      "image/png": "[encoded data removed]",
      "text/plain": [
       "<matplotlib.figure.Figure at 0x7fce710d7080>"
      ]
     },
     "metadata": {
      "needs_background": "light"
     },
     "output_type": "display_data"
    }
   ],
   "source": [
    "from matplotlib import pyplot as plt\n",
    "\n",
    "x = [k for k in analysis[\"custom\"]]\n",
    "y_train = [analysis[\"custom\"][k][0] for k in analysis[\"custom\"]]\n",
    "y_val = [analysis[\"custom\"][k][1] for k in analysis[\"custom\"]]\n",
    "\n",
    "plt.plot(x, y_train, \"bo-\", label=\"Training FID\")\n",
    "plt.plot(x, y_val, \"ro-\", label=\"Validation FID\")\n",
    "plt.xlabel(\"Epoch\")\n",
    "plt.ylabel(\"Frechet Inception Distance\")\n",
    "plt.title(\"FID vs Epoch on Facades Dataset\")\n",
    "plt.legend()\n",
    "plt.savefig(\"Pix2Pix/figures/facades/fid.png\")\n",
    "plt.show()\n",
    "\n",
    "x = [k for k in analysis[\"disc_loss\"]]\n",
    "y = [analysis[\"disc_loss\"][k] for k in analysis[\"disc_loss\"]]\n",
    "plt.plot(x, y, \"go-\", label=\"Discriminator Loss\")\n",
    "\n",
    "x = [k for k in analysis[\"gen_loss\"]]\n",
    "y = [analysis[\"gen_loss\"][k] for k in analysis[\"gen_loss\"]]\n",
    "\n",
    "plt.plot(x, y, \"yo-\", label=\"Generator Loss\")\n",
    "plt.xlabel(\"Epoch\")\n",
    "plt.ylabel(\"Logloss\")\n",
    "plt.title(\"Loss vs Epoch on Facades Dataset\")\n",
    "plt.legend()\n",
    "plt.savefig(\"Pix2Pix/figures/facades/loss.png\")\n",
    "plt.show()"
   ]
  },
  {
   "cell_type": "code",
   "execution_count": null,
   "metadata": {},
   "outputs": [],
   "source": []
  }
 ],
 "metadata": {
  "kernelspec": {
   "display_name": "Python 3",
   "language": "python",
   "name": "python3"
  },
  "language_info": {
   "codemirror_mode": {
    "name": "ipython",
    "version": 3
   },
   "file_extension": ".py",
   "mimetype": "text/x-python",
   "name": "python",
   "nbconvert_exporter": "python",
   "pygments_lexer": "ipython3",
   "version": "3.5.6"
  }
 },
 "nbformat": 4,
 "nbformat_minor": 4
}
